{
 "cells": [
  {
   "cell_type": "markdown",
   "metadata": {},
   "source": [
    "# Housing Regression Kaggle Competition\n",
    "This is a notebook for my submissions based on the following [Kaggle Competition](https://www.kaggle.com/c/house-prices-advanced-regression-techniques). \n",
    "\n",
    "Given 79 features about residential homes in Iowa (as well as their sale prices), the goal is to predict the price of future homes. \n",
    "\n",
    "## Data\n",
    "We are given two files. $\\texttt{train.csv}$ from which our model is trained on, and $\\texttt{test.csv}$ from which we make predictions that are submitted. \n",
    "\n",
    "## Evaluation\n",
    "From the list of predicted house prices, our predictions will be scored by taking the RMSE between the logarithm of the predicted sales price and the logarithm of the observed sales price.\n",
    "\n",
    "## Other\n",
    "This notebook is meant to be a condensed version of all the work. All files used can be found [here](https://github.com/fattorib/HousingRegression)."
   ]
  },
  {
   "cell_type": "code",
   "execution_count": null,
   "metadata": {},
   "outputs": [],
   "source": []
  },
  {
   "cell_type": "code",
   "execution_count": null,
   "metadata": {},
   "outputs": [],
   "source": []
  }
 ],
 "metadata": {
  "kernelspec": {
   "display_name": "Python 3",
   "language": "python",
   "name": "python3"
  },
  "language_info": {
   "codemirror_mode": {
    "name": "ipython",
    "version": 3
   },
   "file_extension": ".py",
   "mimetype": "text/x-python",
   "name": "python",
   "nbconvert_exporter": "python",
   "pygments_lexer": "ipython3",
   "version": "3.7.3"
  }
 },
 "nbformat": 4,
 "nbformat_minor": 4
}
